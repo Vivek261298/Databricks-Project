{
 "cells": [
  {
   "cell_type": "code",
   "execution_count": 0,
   "metadata": {
    "application/vnd.databricks.v1+cell": {
     "cellMetadata": {
      "byteLimit": 2048000,
      "rowLimit": 10000
     },
     "inputWidgets": {},
     "nuid": "2b5dc013-c7aa-4ba1-885a-702bcce15fca",
     "showTitle": false,
     "title": ""
    }
   },
   "outputs": [
    {
     "output_type": "stream",
     "name": "stdout",
     "output_type": "stream",
     "text": [
      "Python interpreter will be restarted.\nCollecting dbldatagen\n  Downloading dbldatagen-0.3.5-py3-none-any.whl (86 kB)\nInstalling collected packages: dbldatagen\nSuccessfully installed dbldatagen-0.3.5\nPython interpreter will be restarted.\nPython interpreter will be restarted.\nCollecting Faker\n  Downloading Faker-19.6.2-py3-none-any.whl (1.7 MB)\nRequirement already satisfied: python-dateutil>=2.4 in /databricks/python3/lib/python3.9/site-packages (from Faker) (2.8.2)\nRequirement already satisfied: six>=1.5 in /databricks/python3/lib/python3.9/site-packages (from python-dateutil>=2.4->Faker) (1.16.0)\nInstalling collected packages: Faker\nSuccessfully installed Faker-19.6.2\nPython interpreter will be restarted.\n"
     ]
    }
   ],
   "source": [
    "%pip install dbldatagen\n",
    "%pip install Faker"
   ]
  },
  {
   "cell_type": "code",
   "execution_count": 0,
   "metadata": {
    "application/vnd.databricks.v1+cell": {
     "cellMetadata": {
      "byteLimit": 2048000,
      "rowLimit": 10000
     },
     "inputWidgets": {},
     "nuid": "c30e3561-a781-46d1-97f0-20a2f213ccee",
     "showTitle": false,
     "title": ""
    }
   },
   "outputs": [],
   "source": [
    "from dbldatagen import DataGenerator , PyfuncText , DateRange\n",
    "from faker import Faker\n",
    "from datetime import timedelta, datetime\n",
    "from pyspark.sql import SparkSession\n",
    "from pyspark.sql.functions import count, when, isnan, col, lit, countDistinct,substring,split\n",
    "from pyspark.sql.types import StructType, StructField, IntegerType, StringType, TimestampType\n",
    "from pyspark.sql.functions import concat_ws\n",
    "import random as random"
   ]
  },
  {
   "cell_type": "code",
   "execution_count": 0,
   "metadata": {
    "application/vnd.databricks.v1+cell": {
     "cellMetadata": {
      "byteLimit": 2048000,
      "rowLimit": 10000
     },
     "inputWidgets": {},
     "nuid": "63ee08f1-b3e6-4bb9-82fd-8327e7d8e3ee",
     "showTitle": false,
     "title": ""
    }
   },
   "outputs": [
    {
     "output_type": "display_data",
     "data": {
      "text/html": [
       "<style scoped>\n",
       "  .table-result-container {\n",
       "    max-height: 300px;\n",
       "    overflow: auto;\n",
       "  }\n",
       "  table, th, td {\n",
       "    border: 1px solid black;\n",
       "    border-collapse: collapse;\n",
       "  }\n",
       "  th, td {\n",
       "    padding: 5px;\n",
       "  }\n",
       "  th {\n",
       "    text-align: left;\n",
       "  }\n",
       "</style><div class='table-result-container'><table class='table-result'><thead style='background-color: white'><tr><th>_id</th><th>customer_id</th><th>line_item_id</th><th>order_item_id</th><th>shopify_user_id</th><th>api_client_id</th><th>balance</th><th>created_at</th><th>currency</th><th>disabled_at</th><th>expires_on</th><th>intial_value</th><th>updated_at</th></tr></thead><tbody><tr><td>1</td><td>864</td><td>202</td><td>267</td><td>895</td><td>774</td><td>7099</td><td>2017-11-27T00:00:00.000+0000</td><td>$</td><td>2018-02-17</td><td>2018-05-22</td><td>8025</td><td>2018-01-02T00:00:00.000+0000</td></tr><tr><td>2</td><td>786</td><td>885</td><td>409</td><td>714</td><td>850</td><td>2399</td><td>2017-12-18T00:00:00.000+0000</td><td>$</td><td>2018-03-13</td><td>2018-03-15</td><td>5536</td><td>2018-01-02T00:00:00.000+0000</td></tr><tr><td>3</td><td>963</td><td>431</td><td>979</td><td>902</td><td>683</td><td>4884</td><td>2018-08-06T00:00:00.000+0000</td><td>₹</td><td>2018-11-03</td><td>2018-12-23</td><td>7329</td><td>2017-12-09T00:00:00.000+0000</td></tr><tr><td>4</td><td>390</td><td>478</td><td>805</td><td>460</td><td>350</td><td>6549</td><td>2018-07-22T00:00:00.000+0000</td><td>$</td><td>2018-09-18</td><td>2018-12-01</td><td>1791</td><td>2017-12-18T00:00:00.000+0000</td></tr><tr><td>5</td><td>392</td><td>690</td><td>966</td><td>647</td><td>431</td><td>5911</td><td>2017-10-04T00:00:00.000+0000</td><td>₹</td><td>2017-12-21</td><td>2018-03-27</td><td>9606</td><td>2018-09-08T00:00:00.000+0000</td></tr><tr><td>6</td><td>803</td><td>821</td><td>335</td><td>654</td><td>847</td><td>8981</td><td>2018-06-16T00:00:00.000+0000</td><td>$</td><td>2018-08-16</td><td>2018-10-04</td><td>9638</td><td>2018-02-13T00:00:00.000+0000</td></tr><tr><td>7</td><td>294</td><td>660</td><td>720</td><td>773</td><td>1012</td><td>6778</td><td>2018-04-08T00:00:00.000+0000</td><td>$</td><td>2018-04-16</td><td>2018-07-16</td><td>3462</td><td>2018-04-26T00:00:00.000+0000</td></tr><tr><td>8</td><td>623</td><td>909</td><td>838</td><td>427</td><td>834</td><td>6416</td><td>2018-06-19T00:00:00.000+0000</td><td>$</td><td>2018-09-05</td><td>2018-12-04</td><td>8794</td><td>2018-08-27T00:00:00.000+0000</td></tr><tr><td>9</td><td>781</td><td>939</td><td>527</td><td>814</td><td>859</td><td>5944</td><td>2017-12-06T00:00:00.000+0000</td><td>₹</td><td>2018-02-11</td><td>2018-02-14</td><td>3084</td><td>2017-10-13T00:00:00.000+0000</td></tr><tr><td>10</td><td>394</td><td>259</td><td>122</td><td>922</td><td>307</td><td>2479</td><td>2017-11-21T00:00:00.000+0000</td><td>$</td><td>2017-12-04</td><td>2018-01-27</td><td>3711</td><td>2018-05-02T00:00:00.000+0000</td></tr></tbody></table></div>"
      ]
     },
     "metadata": {
      "application/vnd.databricks.v1+output": {
       "addedWidgets": {},
       "aggData": [],
       "aggError": "",
       "aggOverflow": false,
       "aggSchema": [],
       "aggSeriesLimitReached": false,
       "aggType": "",
       "arguments": {},
       "columnCustomDisplayInfos": {},
       "data": [
        [
         "1",
         "864",
         "202",
         "267",
         "895",
         "774",
         "7099",
         "2017-11-27T00:00:00.000+0000",
         "$",
         "2018-02-17",
         "2018-05-22",
         "8025",
         "2018-01-02T00:00:00.000+0000"
        ],
        [
         "2",
         "786",
         "885",
         "409",
         "714",
         "850",
         "2399",
         "2017-12-18T00:00:00.000+0000",
         "$",
         "2018-03-13",
         "2018-03-15",
         "5536",
         "2018-01-02T00:00:00.000+0000"
        ],
        [
         "3",
         "963",
         "431",
         "979",
         "902",
         "683",
         "4884",
         "2018-08-06T00:00:00.000+0000",
         "₹",
         "2018-11-03",
         "2018-12-23",
         "7329",
         "2017-12-09T00:00:00.000+0000"
        ],
        [
         "4",
         "390",
         "478",
         "805",
         "460",
         "350",
         "6549",
         "2018-07-22T00:00:00.000+0000",
         "$",
         "2018-09-18",
         "2018-12-01",
         "1791",
         "2017-12-18T00:00:00.000+0000"
        ],
        [
         "5",
         "392",
         "690",
         "966",
         "647",
         "431",
         "5911",
         "2017-10-04T00:00:00.000+0000",
         "₹",
         "2017-12-21",
         "2018-03-27",
         "9606",
         "2018-09-08T00:00:00.000+0000"
        ],
        [
         "6",
         "803",
         "821",
         "335",
         "654",
         "847",
         "8981",
         "2018-06-16T00:00:00.000+0000",
         "$",
         "2018-08-16",
         "2018-10-04",
         "9638",
         "2018-02-13T00:00:00.000+0000"
        ],
        [
         "7",
         "294",
         "660",
         "720",
         "773",
         "1012",
         "6778",
         "2018-04-08T00:00:00.000+0000",
         "$",
         "2018-04-16",
         "2018-07-16",
         "3462",
         "2018-04-26T00:00:00.000+0000"
        ],
        [
         "8",
         "623",
         "909",
         "838",
         "427",
         "834",
         "6416",
         "2018-06-19T00:00:00.000+0000",
         "$",
         "2018-09-05",
         "2018-12-04",
         "8794",
         "2018-08-27T00:00:00.000+0000"
        ],
        [
         "9",
         "781",
         "939",
         "527",
         "814",
         "859",
         "5944",
         "2017-12-06T00:00:00.000+0000",
         "₹",
         "2018-02-11",
         "2018-02-14",
         "3084",
         "2017-10-13T00:00:00.000+0000"
        ],
        [
         "10",
         "394",
         "259",
         "122",
         "922",
         "307",
         "2479",
         "2017-11-21T00:00:00.000+0000",
         "$",
         "2017-12-04",
         "2018-01-27",
         "3711",
         "2018-05-02T00:00:00.000+0000"
        ]
       ],
       "datasetInfos": [],
       "dbfsResultPath": null,
       "isJsonSchema": true,
       "metadata": {},
       "overflow": false,
       "plotOptions": {
        "customPlotOptions": {},
        "displayType": "table",
        "pivotAggregation": null,
        "pivotColumns": null,
        "xColumns": null,
        "yColumns": null
       },
       "removedWidgets": [],
       "schema": [
        {
         "metadata": "{}",
         "name": "_id",
         "type": "\"string\""
        },
        {
         "metadata": "{}",
         "name": "customer_id",
         "type": "\"string\""
        },
        {
         "metadata": "{}",
         "name": "line_item_id",
         "type": "\"string\""
        },
        {
         "metadata": "{}",
         "name": "order_item_id",
         "type": "\"string\""
        },
        {
         "metadata": "{}",
         "name": "shopify_user_id",
         "type": "\"string\""
        },
        {
         "metadata": "{}",
         "name": "api_client_id",
         "type": "\"string\""
        },
        {
         "metadata": "{}",
         "name": "balance",
         "type": "\"string\""
        },
        {
         "metadata": "{}",
         "name": "created_at",
         "type": "\"timestamp\""
        },
        {
         "metadata": "{}",
         "name": "currency",
         "type": "\"string\""
        },
        {
         "metadata": "{}",
         "name": "disabled_at",
         "type": "\"string\""
        },
        {
         "metadata": "{}",
         "name": "expires_on",
         "type": "\"string\""
        },
        {
         "metadata": "{}",
         "name": "intial_value",
         "type": "\"string\""
        },
        {
         "metadata": "{}",
         "name": "updated_at",
         "type": "\"timestamp\""
        }
       ],
       "type": "table"
      }
     },
     "output_type": "display_data"
    }
   ],
   "source": [
    "#schema type\n",
    "schema=StructType([\n",
    "    StructField('_id',StringType(),False),\n",
    "    StructField('customer_id',StringType(),False),\n",
    "    StructField('line_item_id',StringType(),False),\n",
    "    StructField('order_item_id',StringType(),False),\n",
    "    StructField('shopify_user_id',StringType(),False),\n",
    "    StructField('api_client_id',StringType(),False),\n",
    "    StructField('balance',StringType(),False),\n",
    "    StructField('created_at',TimestampType(),False), #\n",
    "    StructField('currency',StringType(),False),\n",
    "    StructField('disabled_at',StringType(),False), #\n",
    "    StructField('expires_on',StringType(),False), #\n",
    "    StructField('intial_value',StringType(),False),\n",
    "    StructField('updated_at',TimestampType(),False), #\n",
    "])\n",
    "\n",
    "#lambda functions\n",
    "fake=Faker()\n",
    "customer_id=(lambda context,v:str(random.randint(100,1000)))\n",
    "line_item_id=(lambda context,v:str(random.randint(100,1000)+10))\n",
    "order_item_id=(lambda context,v:str(random.randint(100,1000)+20))\n",
    "shopify_user_id=(lambda context,v:str(random.randint(100,1000)+30))\n",
    "api_client_id=(lambda context,v:str(random.randint(100,1000)+40))\n",
    "balance=(lambda context,v:str(random.randint(1000,10000)))\n",
    "currency=(lambda context,v: str(random.choice(['$','₹'])) )\n",
    "intial_value=(lambda context,v: str(random.randint(1000,10000)))\n",
    "\n",
    "\n",
    "#data fill\n",
    "data=(DataGenerator(spark,rows=10,partitions=2)\n",
    "      .withSchema(schema)\n",
    "      .withColumnSpec('_id', min=1,max=1000,step=1)\n",
    "      .withColumnSpec('customer_id',text=PyfuncText(customer_id))\n",
    "      .withColumnSpec('line_item_id',text=PyfuncText(line_item_id))\n",
    "      .withColumnSpec('order_item_id',text=PyfuncText(order_item_id))\n",
    "      .withColumnSpec('shopify_user_id',text=PyfuncText(shopify_user_id))\n",
    "      .withColumnSpec('api_client_id',text=PyfuncText(api_client_id))\n",
    "      .withColumnSpec('balance',text=PyfuncText(balance))\n",
    "      .withColumnSpec('created_at',\"date\",\n",
    "        data_range=DateRange(\"2017-10-01 00:00:00\", \"2018-10-06 11:55:00\", \"days=3\"),\n",
    "        random=True)\n",
    "      .withColumnSpec('currency',text=PyfuncText(currency))\n",
    "      .withColumnSpec('disabled_at',\"date\",\n",
    "        expr=\"date_add(created_at, cast(floor(rand() * 100 + 1) as int))\",\n",
    "        baseColumn=\"created_at\")\n",
    "      .withColumnSpec('expires_on',\"date\",\n",
    "        expr=\"date_add(disabled_at, cast(floor(rand() * 100 + 1) as int))\",\n",
    "        baseColumn=\"disabled_at\")\n",
    "      .withColumnSpec('intial_value',text=PyfuncText(balance))\n",
    "      .withColumnSpec('updated_at',\"date\",\n",
    "        data_range=DateRange(\"2017-10-01 00:00:00\", \"2018-10-06 11:55:00\", \"days=3\"),\n",
    "        random=True)\n",
    ")\n",
    "\n",
    "\n",
    "databuild=data.build()\n",
    "display(databuild)\n",
    "\n"
   ]
  },
  {
   "cell_type": "code",
   "execution_count": 0,
   "metadata": {
    "application/vnd.databricks.v1+cell": {
     "cellMetadata": {},
     "inputWidgets": {},
     "nuid": "c3f13163-f144-407d-a1c1-03d373ada245",
     "showTitle": false,
     "title": ""
    }
   },
   "outputs": [],
   "source": []
  }
 ],
 "metadata": {
  "application/vnd.databricks.v1+notebook": {
   "dashboards": [],
   "language": "python",
   "notebookMetadata": {
    "pythonIndentUnit": 4
   },
   "notebookName": "GIFTCARD_DATAGENERATOR",
   "widgets": {}
  }
 },
 "nbformat": 4,
 "nbformat_minor": 0
}
