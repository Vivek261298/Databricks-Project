{
 "cells": [
  {
   "cell_type": "code",
   "execution_count": 0,
   "metadata": {
    "application/vnd.databricks.v1+cell": {
     "cellMetadata": {
      "byteLimit": 2048000,
      "rowLimit": 10000
     },
     "inputWidgets": {},
     "nuid": "0d4f1e09-3aa6-4b6d-ac89-575061d91b9b",
     "showTitle": false,
     "title": ""
    }
   },
   "outputs": [
    {
     "output_type": "stream",
     "name": "stdout",
     "output_type": "stream",
     "text": [
      "Python interpreter will be restarted.\nRequirement already satisfied: Faker in /local_disk0/.ephemeral_nfs/envs/pythonEnv-1d00a4a8-1e73-492c-8634-8def5da8c464/lib/python3.9/site-packages (19.6.2)\nRequirement already satisfied: python-dateutil>=2.4 in /databricks/python3/lib/python3.9/site-packages (from Faker) (2.8.2)\nRequirement already satisfied: six>=1.5 in /databricks/python3/lib/python3.9/site-packages (from python-dateutil>=2.4->Faker) (1.16.0)\nPython interpreter will be restarted.\nPython interpreter will be restarted.\nRequirement already satisfied: dbldatagen in /local_disk0/.ephemeral_nfs/envs/pythonEnv-1d00a4a8-1e73-492c-8634-8def5da8c464/lib/python3.9/site-packages (0.3.5)\nPython interpreter will be restarted.\n"
     ]
    }
   ],
   "source": [
    "%pip install Faker\n",
    "%pip install dbldatagen"
   ]
  },
  {
   "cell_type": "code",
   "execution_count": 0,
   "metadata": {
    "application/vnd.databricks.v1+cell": {
     "cellMetadata": {
      "byteLimit": 2048000,
      "rowLimit": 10000
     },
     "inputWidgets": {},
     "nuid": "7ff32a2e-bedd-4e99-8f8b-a579bf70268d",
     "showTitle": false,
     "title": ""
    }
   },
   "outputs": [],
   "source": [
    "#importing libraries\n",
    "from dbldatagen import DataGenerator , PyfuncText\n",
    "from pyspark.sql.types import StructType, StructField, IntegerType, StringType, TimestampType\n",
    "import random as random\n",
    "from pyspark.sql.functions import col"
   ]
  },
  {
   "cell_type": "code",
   "execution_count": 0,
   "metadata": {
    "application/vnd.databricks.v1+cell": {
     "cellMetadata": {
      "byteLimit": 2048000,
      "rowLimit": 10000
     },
     "inputWidgets": {},
     "nuid": "abcbdb53-0d7f-477a-bfcc-9a93b804c95b",
     "showTitle": false,
     "title": ""
    }
   },
   "outputs": [],
   "source": [
    "schema = StructType([\n",
    "    StructField(\"_id\",StringType(),False),\n",
    "    StructField(\"gift_wrap_cgst_tax\", StringType(), True),\n",
    "    StructField(\"gift_wrap_sgst_tax\", StringType(), True),\n",
    "    StructField(\"gift_wrap_utgst_tax\", StringType(), True),\n",
    "    StructField(\"gift_wrap_igst_tax\", StringType(), True),\n",
    "    StructField(\"gift_wrap_compensatory_cess_tax\", StringType(), True),\n",
    "    StructField(\"total_amount\", StringType(), True)])\n",
    "    # StructField(\"gift_wrap_amount_basis\", StringType(), True),          #valid input required\n",
    "    # StructField(\"gift_wrap_promo_discount_basis\", StringType(), True),\n",
    "    # StructField(\"gift_wrap_promo_discount\", StringType(), True),\n",
    "    # StructField(\"gift_wrap_promo_tax\",StringType(),True)])\n"
   ]
  },
  {
   "cell_type": "code",
   "execution_count": 0,
   "metadata": {
    "application/vnd.databricks.v1+cell": {
     "cellMetadata": {
      "byteLimit": 2048000,
      "rowLimit": 10000
     },
     "inputWidgets": {},
     "nuid": "2833276a-e2d4-48eb-8dbd-c33e9f160d76",
     "showTitle": false,
     "title": ""
    }
   },
   "outputs": [],
   "source": [
    "gift_wrap_cgst_tax=(lambda context,v: str(random.randint(100,1000)))\n",
    "gift_wrap_sgst_tax=(lambda context,v: str(random.randint(100,1000)))\n",
    "gift_wrap_utgst_tax=(lambda context,v: str(random.randint(100,1000)))\n",
    "gift_wrap_igst_tax=(lambda context,v: str(random.randint(100,1000)))\n",
    "gift_wrap_compensatory_cess_tax=(lambda context,v: str(random.randint(100,500)))"
   ]
  },
  {
   "cell_type": "code",
   "execution_count": 0,
   "metadata": {
    "application/vnd.databricks.v1+cell": {
     "cellMetadata": {
      "byteLimit": 2048000,
      "rowLimit": 10000
     },
     "inputWidgets": {},
     "nuid": "169e8110-46da-4e83-9a53-69e4adef0901",
     "showTitle": false,
     "title": ""
    }
   },
   "outputs": [
    {
     "output_type": "display_data",
     "data": {
      "text/html": [
       "<style scoped>\n",
       "  .table-result-container {\n",
       "    max-height: 300px;\n",
       "    overflow: auto;\n",
       "  }\n",
       "  table, th, td {\n",
       "    border: 1px solid black;\n",
       "    border-collapse: collapse;\n",
       "  }\n",
       "  th, td {\n",
       "    padding: 5px;\n",
       "  }\n",
       "  th {\n",
       "    text-align: left;\n",
       "  }\n",
       "</style><div class='table-result-container'><table class='table-result'><thead style='background-color: white'><tr><th>_id</th><th>gift_wrap_cgst_tax</th><th>gift_wrap_sgst_tax</th><th>gift_wrap_utgst_tax</th><th>gift_wrap_igst_tax</th><th>gift_wrap_compensatory_cess_tax</th><th>total_amount</th></tr></thead><tbody><tr><td>1</td><td>449</td><td>709</td><td>932</td><td>742</td><td>151</td><td>2983.0</td></tr><tr><td>2</td><td>599</td><td>465</td><td>209</td><td>101</td><td>213</td><td>1588.0</td></tr><tr><td>3</td><td>900</td><td>509</td><td>776</td><td>972</td><td>468</td><td>3627.0</td></tr><tr><td>4</td><td>570</td><td>703</td><td>667</td><td>292</td><td>104</td><td>2339.0</td></tr><tr><td>5</td><td>616</td><td>124</td><td>927</td><td>599</td><td>166</td><td>2436.0</td></tr><tr><td>6</td><td>597</td><td>693</td><td>459</td><td>641</td><td>123</td><td>2518.0</td></tr><tr><td>7</td><td>469</td><td>789</td><td>610</td><td>135</td><td>489</td><td>2498.0</td></tr><tr><td>8</td><td>677</td><td>764</td><td>507</td><td>586</td><td>341</td><td>2882.0</td></tr><tr><td>9</td><td>813</td><td>949</td><td>748</td><td>470</td><td>263</td><td>3251.0</td></tr><tr><td>10</td><td>330</td><td>182</td><td>608</td><td>185</td><td>296</td><td>1610.0</td></tr></tbody></table></div>"
      ]
     },
     "metadata": {
      "application/vnd.databricks.v1+output": {
       "addedWidgets": {},
       "aggData": [],
       "aggError": "",
       "aggOverflow": false,
       "aggSchema": [],
       "aggSeriesLimitReached": false,
       "aggType": "",
       "arguments": {},
       "columnCustomDisplayInfos": {},
       "data": [
        [
         "1",
         "449",
         "709",
         "932",
         "742",
         "151",
         "2983.0"
        ],
        [
         "2",
         "599",
         "465",
         "209",
         "101",
         "213",
         "1588.0"
        ],
        [
         "3",
         "900",
         "509",
         "776",
         "972",
         "468",
         "3627.0"
        ],
        [
         "4",
         "570",
         "703",
         "667",
         "292",
         "104",
         "2339.0"
        ],
        [
         "5",
         "616",
         "124",
         "927",
         "599",
         "166",
         "2436.0"
        ],
        [
         "6",
         "597",
         "693",
         "459",
         "641",
         "123",
         "2518.0"
        ],
        [
         "7",
         "469",
         "789",
         "610",
         "135",
         "489",
         "2498.0"
        ],
        [
         "8",
         "677",
         "764",
         "507",
         "586",
         "341",
         "2882.0"
        ],
        [
         "9",
         "813",
         "949",
         "748",
         "470",
         "263",
         "3251.0"
        ],
        [
         "10",
         "330",
         "182",
         "608",
         "185",
         "296",
         "1610.0"
        ]
       ],
       "datasetInfos": [],
       "dbfsResultPath": null,
       "isJsonSchema": true,
       "metadata": {},
       "overflow": false,
       "plotOptions": {
        "customPlotOptions": {},
        "displayType": "table",
        "pivotAggregation": null,
        "pivotColumns": null,
        "xColumns": null,
        "yColumns": null
       },
       "removedWidgets": [],
       "schema": [
        {
         "metadata": "{}",
         "name": "_id",
         "type": "\"string\""
        },
        {
         "metadata": "{}",
         "name": "gift_wrap_cgst_tax",
         "type": "\"string\""
        },
        {
         "metadata": "{}",
         "name": "gift_wrap_sgst_tax",
         "type": "\"string\""
        },
        {
         "metadata": "{}",
         "name": "gift_wrap_utgst_tax",
         "type": "\"string\""
        },
        {
         "metadata": "{}",
         "name": "gift_wrap_igst_tax",
         "type": "\"string\""
        },
        {
         "metadata": "{}",
         "name": "gift_wrap_compensatory_cess_tax",
         "type": "\"string\""
        },
        {
         "metadata": "{}",
         "name": "total_amount",
         "type": "\"string\""
        }
       ],
       "type": "table"
      }
     },
     "output_type": "display_data"
    }
   ],
   "source": [
    "billing_address_data = (DataGenerator(spark,rows=10, partitions=2)\n",
    "            .withSchema(schema)\n",
    "            .withColumnSpec(\"_id\", minValue=1, maxValue=2000, step=1)\n",
    "            .withColumnSpec(\"gift_wrap_cgst_tax\",\n",
    "                        text=PyfuncText(gift_wrap_cgst_tax))\n",
    "            .withColumnSpec(\"gift_wrap_sgst_tax\",\n",
    "                        text=PyfuncText(gift_wrap_sgst_tax))\n",
    "            .withColumnSpec(\"gift_wrap_utgst_tax\",\n",
    "                        text=PyfuncText(gift_wrap_utgst_tax))\n",
    "            .withColumnSpec(\"gift_wrap_igst_tax\", \n",
    "                        text=PyfuncText(gift_wrap_igst_tax))\n",
    "            .withColumnSpecs(\"gift_wrap_compensatory_cess_tax\",\n",
    "                        text=PyfuncText(gift_wrap_compensatory_cess_tax))\n",
    "            .withColumnSpec(\"total_amount\",col(\"gift_wrap_utgst_tax\")+col(\"gift_wrap_compensatory_cess_tax\")\n",
    "                            +col(\"gift_wrap_cgst_tax\")+col(\"gift_wrap_sgst_tax\")+col(\"gift_wrap_igst_tax\"))\n",
    "            )\n",
    "\n",
    "databuild=billing_address_data.build()\n",
    "\n",
    "display(databuild)"
   ]
  },
  {
   "cell_type": "code",
   "execution_count": 0,
   "metadata": {
    "application/vnd.databricks.v1+cell": {
     "cellMetadata": {
      "byteLimit": 2048000,
      "rowLimit": 10000
     },
     "inputWidgets": {},
     "nuid": "81fe1d3c-dea8-45b5-8b5f-56bf19e6701c",
     "showTitle": false,
     "title": ""
    }
   },
   "outputs": [],
   "source": []
  }
 ],
 "metadata": {
  "application/vnd.databricks.v1+notebook": {
   "dashboards": [],
   "language": "python",
   "notebookMetadata": {
    "pythonIndentUnit": 4
   },
   "notebookName": "Gift Order DataGeneration",
   "widgets": {}
  }
 },
 "nbformat": 4,
 "nbformat_minor": 0
}
