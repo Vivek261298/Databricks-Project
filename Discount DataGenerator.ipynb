{
 "cells": [
  {
   "cell_type": "code",
   "execution_count": 0,
   "metadata": {
    "application/vnd.databricks.v1+cell": {
     "cellMetadata": {
      "byteLimit": 2048000,
      "rowLimit": 10000
     },
     "inputWidgets": {},
     "nuid": "a8d133d4-4665-43c0-a2b2-fdc85d1fdba0",
     "showTitle": false,
     "title": ""
    }
   },
   "outputs": [
    {
     "output_type": "stream",
     "name": "stdout",
     "output_type": "stream",
     "text": [
      "Python interpreter will be restarted.\nRequirement already satisfied: dbldatagen in /local_disk0/.ephemeral_nfs/envs/pythonEnv-d1392d1f-2bb8-4604-87b6-a40062aabed3/lib/python3.9/site-packages (0.3.5)\nPython interpreter will be restarted.\nPython interpreter will be restarted.\nRequirement already satisfied: Faker in /local_disk0/.ephemeral_nfs/envs/pythonEnv-d1392d1f-2bb8-4604-87b6-a40062aabed3/lib/python3.9/site-packages (19.6.2)\nRequirement already satisfied: python-dateutil>=2.4 in /databricks/python3/lib/python3.9/site-packages (from Faker) (2.8.2)\nRequirement already satisfied: six>=1.5 in /databricks/python3/lib/python3.9/site-packages (from python-dateutil>=2.4->Faker) (1.16.0)\nPython interpreter will be restarted.\n"
     ]
    }
   ],
   "source": [
    "%pip install dbldatagen\n",
    "%pip install Faker"
   ]
  },
  {
   "cell_type": "code",
   "execution_count": 0,
   "metadata": {
    "application/vnd.databricks.v1+cell": {
     "cellMetadata": {
      "byteLimit": 2048000,
      "rowLimit": 10000
     },
     "inputWidgets": {},
     "nuid": "a9bfc972-9c19-4854-bc2c-76bbf278db3b",
     "showTitle": false,
     "title": ""
    }
   },
   "outputs": [],
   "source": [
    "from dbldatagen import DataGenerator , PyfuncText\n",
    "from faker import Faker\n",
    "from datetime import timedelta, datetime\n",
    "from pyspark.sql import SparkSession\n",
    "from pyspark.sql.functions import count, when, isnan, col, lit, countDistinct,substring,split\n",
    "from pyspark.sql.types import StructType, StructField, IntegerType, StringType, TimestampType\n",
    "from pyspark.sql.functions import concat_ws\n",
    "import random as random"
   ]
  },
  {
   "cell_type": "code",
   "execution_count": 0,
   "metadata": {
    "application/vnd.databricks.v1+cell": {
     "cellMetadata": {
      "byteLimit": 2048000,
      "rowLimit": 10000
     },
     "inputWidgets": {},
     "nuid": "7fe9c3c9-2fb5-4bee-97e6-28a934467f3d",
     "showTitle": false,
     "title": ""
    }
   },
   "outputs": [],
   "source": [
    "schema = StructType([\n",
    "    StructField(\"index\", StringType(), False),\n",
    "    StructField(\"code\", StringType(), True),\n",
    "    StructField(\"amount\", StringType(), True),\n",
    "    StructField(\"type\", StringType(), True),\n",
    "    StructField(\"brand\", StringType(), True),\n",
    "    StructField(\"created_at\", StringType(), True),\n",
    "    StructField(\"updated_at\", StringType(), True),\n",
    "    StructField(\"channel\", StringType(), True),\n",
    "    StructField(\"mp\", StringType(), True)])\n"
   ]
  },
  {
   "cell_type": "code",
   "execution_count": 0,
   "metadata": {
    "application/vnd.databricks.v1+cell": {
     "cellMetadata": {
      "byteLimit": 2048000,
      "rowLimit": 10000
     },
     "inputWidgets": {},
     "nuid": "4be5b09b-4780-4595-b546-5fe7b74623a9",
     "showTitle": false,
     "title": ""
    }
   },
   "outputs": [],
   "source": [
    "billing_address_line_1 = (lambda context, v : Faker(locale=\"en_IN\").brand())"
   ]
  },
  {
   "cell_type": "code",
   "execution_count": 0,
   "metadata": {
    "application/vnd.databricks.v1+cell": {
     "cellMetadata": {
      "byteLimit": 2048000,
      "rowLimit": 10000
     },
     "inputWidgets": {},
     "nuid": "018dedc7-9638-4302-a054-eb327abe49e9",
     "showTitle": false,
     "title": ""
    }
   },
   "outputs": [],
   "source": [
    "fake=Faker()"
   ]
  },
  {
   "cell_type": "code",
   "execution_count": 0,
   "metadata": {
    "application/vnd.databricks.v1+cell": {
     "cellMetadata": {
      "byteLimit": 2048000,
      "rowLimit": 10000
     },
     "inputWidgets": {},
     "nuid": "9db0f4c1-260b-445e-b9db-7f5417b053ac",
     "showTitle": false,
     "title": ""
    }
   },
   "outputs": [
    {
     "output_type": "display_data",
     "data": {
      "text/html": [
       "<style scoped>\n",
       "  .table-result-container {\n",
       "    max-height: 300px;\n",
       "    overflow: auto;\n",
       "  }\n",
       "  table, th, td {\n",
       "    border: 1px solid black;\n",
       "    border-collapse: collapse;\n",
       "  }\n",
       "  th, td {\n",
       "    padding: 5px;\n",
       "  }\n",
       "  th {\n",
       "    text-align: left;\n",
       "  }\n",
       "</style><div class='table-result-container'><table class='table-result'><thead style='background-color: white'><tr><th>index</th><th>code</th><th>amount</th><th>type</th><th>brand</th><th>created_at</th><th>updated_at</th><th>channel</th><th>mp</th></tr></thead><tbody><tr><td>1</td><td>7308.0</td><td>581.4988245129717</td><td>Type5</td><td>z</td><td>2023-09-11</td><td>2023-09-16</td><td>Channel2</td><td>0</td></tr><tr><td>2</td><td>7309.0</td><td>582.4988245129717</td><td>Type2</td><td>y</td><td>2023-10-02</td><td>2023-09-25</td><td>Channel1</td><td>1</td></tr><tr><td>3</td><td>7310.0</td><td>583.4988245129717</td><td>Type2</td><td>x</td><td>2023-09-20</td><td>2023-09-30</td><td>Channel1</td><td>2</td></tr><tr><td>4</td><td>7311.0</td><td>584.4988245129717</td><td>Type5</td><td>z</td><td>2023-10-02</td><td>2023-09-25</td><td>Channel2</td><td>3</td></tr><tr><td>5</td><td>7312.0</td><td>585.4988245129717</td><td>Type1</td><td>z</td><td>2023-10-01</td><td>2023-09-25</td><td>Channel2</td><td>4</td></tr><tr><td>6</td><td>7313.0</td><td>586.4988245129717</td><td>Type2</td><td>z</td><td>2023-09-11</td><td>2023-09-16</td><td>Channel1</td><td>5</td></tr><tr><td>7</td><td>7314.0</td><td>587.4988245129717</td><td>Type2</td><td>y</td><td>2023-10-02</td><td>2023-09-25</td><td>Channel1</td><td>6</td></tr><tr><td>8</td><td>7315.0</td><td>588.4988245129717</td><td>Type2</td><td>x</td><td>2023-09-20</td><td>2023-09-30</td><td>Channel2</td><td>7</td></tr><tr><td>9</td><td>7316.0</td><td>589.4988245129717</td><td>Type2</td><td>y</td><td>2023-10-02</td><td>2023-09-25</td><td>Channel1</td><td>8</td></tr><tr><td>10</td><td>7317.0</td><td>590.4988245129717</td><td>Type1</td><td>y</td><td>2023-10-01</td><td>2023-09-25</td><td>Channel1</td><td>9</td></tr></tbody></table></div>"
      ]
     },
     "metadata": {
      "application/vnd.databricks.v1+output": {
       "addedWidgets": {},
       "aggData": [],
       "aggError": "",
       "aggOverflow": false,
       "aggSchema": [],
       "aggSeriesLimitReached": false,
       "aggType": "",
       "arguments": {},
       "columnCustomDisplayInfos": {},
       "data": [
        [
         "1",
         "7308.0",
         "581.4988245129717",
         "Type5",
         "z",
         "2023-09-11",
         "2023-09-16",
         "Channel2",
         "0"
        ],
        [
         "2",
         "7309.0",
         "582.4988245129717",
         "Type2",
         "y",
         "2023-10-02",
         "2023-09-25",
         "Channel1",
         "1"
        ],
        [
         "3",
         "7310.0",
         "583.4988245129717",
         "Type2",
         "x",
         "2023-09-20",
         "2023-09-30",
         "Channel1",
         "2"
        ],
        [
         "4",
         "7311.0",
         "584.4988245129717",
         "Type5",
         "z",
         "2023-10-02",
         "2023-09-25",
         "Channel2",
         "3"
        ],
        [
         "5",
         "7312.0",
         "585.4988245129717",
         "Type1",
         "z",
         "2023-10-01",
         "2023-09-25",
         "Channel2",
         "4"
        ],
        [
         "6",
         "7313.0",
         "586.4988245129717",
         "Type2",
         "z",
         "2023-09-11",
         "2023-09-16",
         "Channel1",
         "5"
        ],
        [
         "7",
         "7314.0",
         "587.4988245129717",
         "Type2",
         "y",
         "2023-10-02",
         "2023-09-25",
         "Channel1",
         "6"
        ],
        [
         "8",
         "7315.0",
         "588.4988245129717",
         "Type2",
         "x",
         "2023-09-20",
         "2023-09-30",
         "Channel2",
         "7"
        ],
        [
         "9",
         "7316.0",
         "589.4988245129717",
         "Type2",
         "y",
         "2023-10-02",
         "2023-09-25",
         "Channel1",
         "8"
        ],
        [
         "10",
         "7317.0",
         "590.4988245129717",
         "Type1",
         "y",
         "2023-10-01",
         "2023-09-25",
         "Channel1",
         "9"
        ]
       ],
       "datasetInfos": [],
       "dbfsResultPath": null,
       "isJsonSchema": true,
       "metadata": {},
       "overflow": false,
       "plotOptions": {
        "customPlotOptions": {},
        "displayType": "table",
        "pivotAggregation": null,
        "pivotColumns": null,
        "xColumns": null,
        "yColumns": null
       },
       "removedWidgets": [],
       "schema": [
        {
         "metadata": "{}",
         "name": "index",
         "type": "\"string\""
        },
        {
         "metadata": "{}",
         "name": "code",
         "type": "\"string\""
        },
        {
         "metadata": "{}",
         "name": "amount",
         "type": "\"string\""
        },
        {
         "metadata": "{}",
         "name": "type",
         "type": "\"string\""
        },
        {
         "metadata": "{}",
         "name": "brand",
         "type": "\"string\""
        },
        {
         "metadata": "{}",
         "name": "created_at",
         "type": "\"string\""
        },
        {
         "metadata": "{}",
         "name": "updated_at",
         "type": "\"string\""
        },
        {
         "metadata": "{}",
         "name": "channel",
         "type": "\"string\""
        },
        {
         "metadata": "{}",
         "name": "mp",
         "type": "\"string\""
        }
       ],
       "type": "table"
      }
     },
     "output_type": "display_data"
    }
   ],
   "source": [
    "code = (lambda context, v : Faker(locale=\"en_IN\").code())\n",
    "amount = (lambda context, v : Faker(locale=\"en_IN\").amount())\n",
    "type_ = (lambda context, v : \"Type\" + str(random.randint(1, 5)))\n",
    "brand = (lambda context, v : random.choice(['x','y','z']))\n",
    "created_at = (lambda context, v : fake.date_between(start_date='-30d', end_date='today').strftime('%Y-%m-%d'))\n",
    "updated_at = (lambda context, v : fake.date_between(start_date='-25d', end_date='today').strftime('%Y-%m-%d'))\n",
    "channel= (lambda context, v : \"Channel\" + str(random.randint(1, 2)))\n",
    "mp = (lambda context, v :  \"MP\" + str(random.randint(1, 4)))\n",
    "\n",
    "billing_address_data = (DataGenerator(spark,rows=10, partitions=2)\n",
    "            .withSchema(schema)\n",
    "            .withColumnSpec(\"index\", minValue=1, maxValue=2000, step=1)\n",
    "            .withColumnSpec(\"code\",\n",
    "                         str(random.randint(1100, 9999)))\n",
    "            .withColumnSpec(\"amount\",\n",
    "                        str(random.uniform(100,999)))\n",
    "            .withColumnSpec(\"type\",\n",
    "                        text=PyfuncText(type_))\n",
    "            .withColumnSpec(\"brand\", \n",
    "                text=PyfuncText(brand ))\n",
    "            .withColumnSpecs(\"created_at\",\n",
    "                             text=PyfuncText(created_at))\n",
    "            .withColumnSpecs(\"updated_at\",\n",
    "                             text=PyfuncText(updated_at))\n",
    "            .withColumnSpecs(\"channel\",\n",
    "                             text=PyfuncText(channel))\n",
    "            .withColumnSpecs(\"mp\",\n",
    "                             text=PyfuncText(mp))\n",
    "            )\n",
    "\n",
    "databuild=billing_address_data.build()\n",
    "\n",
    "display(databuild)"
   ]
  },
  {
   "cell_type": "code",
   "execution_count": 0,
   "metadata": {
    "application/vnd.databricks.v1+cell": {
     "cellMetadata": {
      "byteLimit": 2048000,
      "rowLimit": 10000
     },
     "inputWidgets": {},
     "nuid": "e5f37c4e-9856-450e-a5dc-e2ef990b7d59",
     "showTitle": false,
     "title": ""
    }
   },
   "outputs": [],
   "source": []
  },
  {
   "cell_type": "code",
   "execution_count": 0,
   "metadata": {
    "application/vnd.databricks.v1+cell": {
     "cellMetadata": {
      "byteLimit": 2048000,
      "rowLimit": 10000
     },
     "inputWidgets": {},
     "nuid": "583d288f-fad1-464f-b49b-636d02e26615",
     "showTitle": false,
     "title": ""
    }
   },
   "outputs": [],
   "source": []
  },
  {
   "cell_type": "code",
   "execution_count": 0,
   "metadata": {
    "application/vnd.databricks.v1+cell": {
     "cellMetadata": {
      "byteLimit": 2048000,
      "rowLimit": 10000
     },
     "inputWidgets": {},
     "nuid": "81f82755-bf99-44d7-80f6-986485f41793",
     "showTitle": false,
     "title": ""
    }
   },
   "outputs": [],
   "source": []
  }
 ],
 "metadata": {
  "application/vnd.databricks.v1+notebook": {
   "dashboards": [],
   "language": "python",
   "notebookMetadata": {
    "mostRecentlyExecutedCommandWithImplicitDF": {
     "commandId": -1,
     "dataframes": [
      "_sqldf"
     ]
    },
    "pythonIndentUnit": 4
   },
   "notebookName": "Discount DataGenerator",
   "widgets": {}
  }
 },
 "nbformat": 4,
 "nbformat_minor": 0
}
