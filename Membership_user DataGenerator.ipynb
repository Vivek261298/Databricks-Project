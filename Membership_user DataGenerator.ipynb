{
 "cells": [
  {
   "cell_type": "code",
   "execution_count": 0,
   "metadata": {
    "application/vnd.databricks.v1+cell": {
     "cellMetadata": {
      "byteLimit": 2048000,
      "rowLimit": 10000
     },
     "inputWidgets": {},
     "nuid": "ed1e065a-405f-4d59-bce0-df98d11c56c9",
     "showTitle": false,
     "title": ""
    }
   },
   "outputs": [
    {
     "output_type": "stream",
     "name": "stdout",
     "output_type": "stream",
     "text": [
      "Python interpreter will be restarted.\nCollecting dbldatagen\n  Downloading dbldatagen-0.3.5-py3-none-any.whl (86 kB)\nInstalling collected packages: dbldatagen\nSuccessfully installed dbldatagen-0.3.5\nPython interpreter will be restarted.\nPython interpreter will be restarted.\nCollecting Faker\n  Downloading Faker-19.6.2-py3-none-any.whl (1.7 MB)\nRequirement already satisfied: python-dateutil>=2.4 in /databricks/python3/lib/python3.9/site-packages (from Faker) (2.8.2)\nRequirement already satisfied: six>=1.5 in /databricks/python3/lib/python3.9/site-packages (from python-dateutil>=2.4->Faker) (1.16.0)\nInstalling collected packages: Faker\nSuccessfully installed Faker-19.6.2\nPython interpreter will be restarted.\n"
     ]
    }
   ],
   "source": [
    "%pip install dbldatagen\n",
    "%pip install Faker"
   ]
  },
  {
   "cell_type": "code",
   "execution_count": 0,
   "metadata": {
    "application/vnd.databricks.v1+cell": {
     "cellMetadata": {
      "byteLimit": 2048000,
      "rowLimit": 10000
     },
     "inputWidgets": {},
     "nuid": "3bc992bc-f01f-473c-8e13-40fcd0000f35",
     "showTitle": false,
     "title": ""
    }
   },
   "outputs": [],
   "source": [
    "from dbldatagen import DataGenerator , PyfuncText\n",
    "from faker import Faker\n",
    "from datetime import timedelta, datetime\n",
    "from pyspark.sql import SparkSession\n",
    "from pyspark.sql.functions import count, when, isnan, col, lit, countDistinct,substring,split\n",
    "from pyspark.sql.types import StructType, StructField, IntegerType, StringType, TimestampType\n",
    "from pyspark.sql.functions import concat_ws,col\n",
    "import random as random"
   ]
  },
  {
   "cell_type": "code",
   "execution_count": 0,
   "metadata": {
    "application/vnd.databricks.v1+cell": {
     "cellMetadata": {
      "byteLimit": 2048000,
      "rowLimit": 10000
     },
     "inputWidgets": {},
     "nuid": "c2a82c1b-9764-45b5-9a26-8765ff6c27e2",
     "showTitle": false,
     "title": ""
    }
   },
   "outputs": [],
   "source": [
    "schema= StructType([\n",
    "    StructField(\"user_id\",StringType(),False),\n",
    "    StructField(\"email_id\",StringType(),True),\n",
    "    StructField(\"first_name\",StringType(),True),\n",
    "    StructField(\"last_name\",StringType(),True),\n",
    "    StructField(\"phone_number\", StringType(),True),\n",
    "    StructField(\"user_type\",StringType(),True),\n",
    "    StructField(\"updated_at\",StringType(),True)\n",
    "\n",
    "])"
   ]
  },
  {
   "cell_type": "code",
   "execution_count": 0,
   "metadata": {
    "application/vnd.databricks.v1+cell": {
     "cellMetadata": {
      "byteLimit": 2048000,
      "rowLimit": 10000
     },
     "inputWidgets": {},
     "nuid": "8cf686bf-ae56-4fed-a352-2fa03a73efc2",
     "showTitle": false,
     "title": ""
    }
   },
   "outputs": [
    {
     "output_type": "display_data",
     "data": {
      "text/html": [
       "<style scoped>\n",
       "  .table-result-container {\n",
       "    max-height: 300px;\n",
       "    overflow: auto;\n",
       "  }\n",
       "  table, th, td {\n",
       "    border: 1px solid black;\n",
       "    border-collapse: collapse;\n",
       "  }\n",
       "  th, td {\n",
       "    padding: 5px;\n",
       "  }\n",
       "  th {\n",
       "    text-align: left;\n",
       "  }\n",
       "</style><div class='table-result-container'><table class='table-result'><thead style='background-color: white'><tr><th>user_id</th><th>email_id</th><th>first_name</th><th>last_name</th><th>phone_number</th><th>user_type</th><th>updated_at</th></tr></thead><tbody><tr><td>1</td><td>ggulati@example.org</td><td>Alisha</td><td>Kar</td><td>06108300693</td><td>member</td><td>2023-09-29</td></tr><tr><td>2</td><td>ggulati@example.org</td><td>Alisha</td><td>Kar</td><td>06108300693</td><td>member</td><td>2023-09-29</td></tr><tr><td>3</td><td>ggulati@example.org</td><td>Alisha</td><td>Kar</td><td>06108300693</td><td>non member</td><td>2023-09-29</td></tr><tr><td>4</td><td>ggulati@example.org</td><td>Alisha</td><td>Kar</td><td>06108300693</td><td>member</td><td>2023-09-29</td></tr><tr><td>5</td><td>badalbabu@example.com</td><td>Uthkarsh</td><td>Gulati</td><td>07604608720</td><td>non member</td><td>2023-09-28</td></tr><tr><td>6</td><td>ggulati@example.org</td><td>Alisha</td><td>Kar</td><td>06108300693</td><td>non member</td><td>2023-09-29</td></tr><tr><td>7</td><td>ggulati@example.org</td><td>Alisha</td><td>Kar</td><td>06108300693</td><td>non member</td><td>2023-09-29</td></tr><tr><td>8</td><td>ggulati@example.org</td><td>Alisha</td><td>Kar</td><td>06108300693</td><td>non member</td><td>2023-09-29</td></tr><tr><td>9</td><td>ggulati@example.org</td><td>Alisha</td><td>Kar</td><td>06108300693</td><td>member</td><td>2023-09-29</td></tr><tr><td>10</td><td>badalbabu@example.com</td><td>Uthkarsh</td><td>Gulati</td><td>07604608720</td><td>member</td><td>2023-09-28</td></tr></tbody></table></div>"
      ]
     },
     "metadata": {
      "application/vnd.databricks.v1+output": {
       "addedWidgets": {},
       "aggData": [],
       "aggError": "",
       "aggOverflow": false,
       "aggSchema": [],
       "aggSeriesLimitReached": false,
       "aggType": "",
       "arguments": {},
       "columnCustomDisplayInfos": {},
       "data": [
        [
         "1",
         "ggulati@example.org",
         "Alisha",
         "Kar",
         "06108300693",
         "member",
         "2023-09-29"
        ],
        [
         "2",
         "ggulati@example.org",
         "Alisha",
         "Kar",
         "06108300693",
         "member",
         "2023-09-29"
        ],
        [
         "3",
         "ggulati@example.org",
         "Alisha",
         "Kar",
         "06108300693",
         "non member",
         "2023-09-29"
        ],
        [
         "4",
         "ggulati@example.org",
         "Alisha",
         "Kar",
         "06108300693",
         "member",
         "2023-09-29"
        ],
        [
         "5",
         "badalbabu@example.com",
         "Uthkarsh",
         "Gulati",
         "07604608720",
         "non member",
         "2023-09-28"
        ],
        [
         "6",
         "ggulati@example.org",
         "Alisha",
         "Kar",
         "06108300693",
         "non member",
         "2023-09-29"
        ],
        [
         "7",
         "ggulati@example.org",
         "Alisha",
         "Kar",
         "06108300693",
         "non member",
         "2023-09-29"
        ],
        [
         "8",
         "ggulati@example.org",
         "Alisha",
         "Kar",
         "06108300693",
         "non member",
         "2023-09-29"
        ],
        [
         "9",
         "ggulati@example.org",
         "Alisha",
         "Kar",
         "06108300693",
         "member",
         "2023-09-29"
        ],
        [
         "10",
         "badalbabu@example.com",
         "Uthkarsh",
         "Gulati",
         "07604608720",
         "member",
         "2023-09-28"
        ]
       ],
       "datasetInfos": [],
       "dbfsResultPath": null,
       "isJsonSchema": true,
       "metadata": {},
       "overflow": false,
       "plotOptions": {
        "customPlotOptions": {},
        "displayType": "table",
        "pivotAggregation": null,
        "pivotColumns": null,
        "xColumns": null,
        "yColumns": null
       },
       "removedWidgets": [],
       "schema": [
        {
         "metadata": "{}",
         "name": "user_id",
         "type": "\"string\""
        },
        {
         "metadata": "{}",
         "name": "email_id",
         "type": "\"string\""
        },
        {
         "metadata": "{}",
         "name": "first_name",
         "type": "\"string\""
        },
        {
         "metadata": "{}",
         "name": "last_name",
         "type": "\"string\""
        },
        {
         "metadata": "{}",
         "name": "phone_number",
         "type": "\"string\""
        },
        {
         "metadata": "{}",
         "name": "user_type",
         "type": "\"string\""
        },
        {
         "metadata": "{}",
         "name": "updated_at",
         "type": "\"string\""
        }
       ],
       "type": "table"
      }
     },
     "output_type": "display_data"
    }
   ],
   "source": [
    "fake=Faker(locale='en_IN')\n",
    "email_id=(lambda context,v: fake.email())\n",
    "first_name=(lambda context,v: fake.first_name())\n",
    "last_name=(lambda context,v: fake.last_name())\n",
    "phone_number=(lambda context,v: fake.phone_number())\n",
    "user_type=(lambda context,v: random.choice(['member','non member']))\n",
    "updated_at=(lambda context,v: fake.date_between(start_date='-15d', end_date='today').strftime('%Y-%m-%d'))\n",
    "\n",
    "membership_data=(DataGenerator(spark,rows=10,partition=2)\n",
    "                .withSchema(schema)\n",
    "                .withColumnSpec('user_id',minValue=1,maxValue=1000,step=1)\n",
    "                .withColumnSpec('email_id',text=PyfuncText(email_id))\n",
    "                .withColumnSpec('first_name',text=PyfuncText(first_name))\n",
    "                .withColumnSpec('last_name',text=PyfuncText(last_name))\n",
    "                .withColumnSpec('phone_number',text=PyfuncText(phone_number))\n",
    "                .withColumnSpec('user_type',text=PyfuncText(user_type))\n",
    "                .withColumnSpec('updated_at',text=PyfuncText(updated_at))\n",
    ")\n",
    "\n",
    "databuild=membership_data.build()\n",
    "display(databuild)\n"
   ]
  },
  {
   "cell_type": "code",
   "execution_count": 0,
   "metadata": {
    "application/vnd.databricks.v1+cell": {
     "cellMetadata": {
      "byteLimit": 2048000,
      "rowLimit": 10000
     },
     "inputWidgets": {},
     "nuid": "8cf39ffe-4850-4cda-b317-b39775403b79",
     "showTitle": false,
     "title": ""
    }
   },
   "outputs": [],
   "source": [
    "databuild.write.mode('overwrite').format(\"parquet\").saveAsTable(\"membership_user\")"
   ]
  },
  {
   "cell_type": "code",
   "execution_count": 0,
   "metadata": {
    "application/vnd.databricks.v1+cell": {
     "cellMetadata": {},
     "inputWidgets": {},
     "nuid": "23f16824-8fc5-42a4-bfe6-610d3b2091c7",
     "showTitle": false,
     "title": ""
    }
   },
   "outputs": [],
   "source": []
  }
 ],
 "metadata": {
  "application/vnd.databricks.v1+notebook": {
   "dashboards": [],
   "language": "python",
   "notebookMetadata": {
    "pythonIndentUnit": 4
   },
   "notebookName": "Membership_user DataGenerator",
   "widgets": {}
  }
 },
 "nbformat": 4,
 "nbformat_minor": 0
}
